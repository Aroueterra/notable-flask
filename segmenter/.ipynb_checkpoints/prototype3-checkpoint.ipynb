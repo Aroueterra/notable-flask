{
 "cells": [
  {
   "cell_type": "code",
   "execution_count": null,
   "metadata": {},
   "outputs": [],
   "source": [
    "cv2.imwrite('logs/deskewed.jpg', imgmat)\n",
    "\n",
    "mypath = Path().absolute()\n",
    "#show_images([imgs_with_staff[0]])\n",
    "#     file_path = str(mypath) + '\\\\segmenter\\\\output\\\\'\n",
    "#     zip_path = str(mypath) + '\\\\data\\\\melody\\\\'\n",
    "#     zip_path1 = str(mypath) + '\\\\data\\\\melody'\n",
    "#     delete_path = str(mypath) + '\\\\segmenter\\\\output'\n",
    "#     absolute_path = Path(file_path)\n",
    "#     zip_path2 = str(mypath) + '\\\\data\\\\melody'\n",
    "    \n",
    "    \n",
    "#     remove_dir = os.listdir(delete_path)\n",
    "#     for item in remove_dir:\n",
    "#         if item.endswith(\".png\") or item.endswith(\".jpg\") or item.endswith(\".jpeg\"):\n",
    "#             os.remove(os.path.join(delete_path, item))\n",
    "#     remove_dir = os.listdir(zip_path1)\n",
    "#     for item in remove_dir:\n",
    "#         if item.endswith(\".png\") or item.endswith(\".jpg\") or item.endswith(\".jpeg\"):\n",
    "#             os.remove(os.path.join(zip_path1, item))"
   ]
  },
  {
   "cell_type": "code",
   "execution_count": null,
   "metadata": {},
   "outputs": [],
   "source": [
    "ML_MODEL\n",
    "        #file_name = segmented_staves[0].name.split('.')[-2]\n",
    "        #file_ext = str(segmented_staves[0]).split('.')[1]\n",
    "        #counter = 1\n",
    "        #image = cv2.imread(str(current_file),0)\n",
    "            #image = cv2.cvtColor(np.array(img), cv2.COLOR_RGB2BGR)\n",
    "            #image = cv2.cvtColor(np.array(img), cv2.COLOR_RGB2GRAY)\n",
    "            \n",
    "            img.save(\"logs/from_ml_converted.png\", quality=100)   \n",
    "                \n",
    "            \n",
    "            #             image = cv2.cvtColor(np.float32(opencv_image), cv2.COLOR_GRAY2RGB)\n",
    "#             print('OpenCV: ', image.shape)\n",
    "#             cv2.imwrite('proto.jpg', image)\n",
    "            \n",
    "            \n",
    "            \n",
    "            \n",
    "            #             if counter < len(segmented_staves):\n",
    "#                 current_file = segmented_staves[counter]\n",
    "#             else:\n",
    "#                 valid_path, valid_name = os.path.split(segmented_staves[counter-1])\n",
    "#                 current_file = Path(valid_path + '\\\\invalid.png' )\n",
    "            #counter+=1"
   ]
  },
  {
   "cell_type": "code",
   "execution_count": null,
   "metadata": {},
   "outputs": [],
   "source": [
    "import os\n",
    "import io\n",
    "import time\n",
    "import traceback\n",
    "import logging\n",
    "import ctc_utils\n",
    "import numpy as np\n",
    "import simpleaudio as sa\n",
    "from pathlib import Path\n",
    "from midi.player import *\n",
    "from scipy.io.wavfile import write as WAV\n",
    "export = 0\n",
    "directory = 'logs\\\\'\n",
    "with open(\"C:\\Users\\aroue\\Downloads\\Documents\\@ML\\notable-flask\\data\\Error\\predictions0.txt\") as file:\n",
    "    lines = [line.strip() for line in file]\n",
    "    # gets the audio file\n",
    "    audio = get_sinewave_audio(lines)\n",
    "    # horizontally stacks the freqs    \n",
    "    audio =  np.hstack(audio)\n",
    "    # normalizes the freqs\n",
    "    audio *= 32767 / np.max(np.abs(audio))\n",
    "    #converts it to 16 bits\n",
    "    audio = audio.astype(np.int16)\n",
    "    output_file = directory + \"full_song\" + '.wav'\n",
    "                full_song = None\n",
    "                for song in playlist:\n",
    "                    small_file = directory + 'staff' + str(track) + '.wav'\n",
    "                    WAV(small_file, 44100, song)\n",
    "                    track+=1\n",
    "                    if (full_song) is None:\n",
    "                        full_song = song\n",
    "                    else:\n",
    "                        full_song = np.concatenate((full_song, song))\n",
    "\n",
    "                WAV(output_file, 44100, full_song)\n",
    "    "
   ]
  }
 ],
 "metadata": {
  "kernelspec": {
   "display_name": "Python 3",
   "language": "python",
   "name": "python3"
  },
  "language_info": {
   "codemirror_mode": {
    "name": "ipython",
    "version": 3
   },
   "file_extension": ".py",
   "mimetype": "text/x-python",
   "name": "python",
   "nbconvert_exporter": "python",
   "pygments_lexer": "ipython3",
   "version": "3.8.5"
  }
 },
 "nbformat": 4,
 "nbformat_minor": 4
}
