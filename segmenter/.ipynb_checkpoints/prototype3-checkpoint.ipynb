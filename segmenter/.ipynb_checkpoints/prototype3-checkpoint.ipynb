{
 "cells": [
  {
   "cell_type": "code",
   "execution_count": null,
   "metadata": {},
   "outputs": [],
   "source": [
    "cv2.imwrite('logs/deskewed.jpg', imgmat)\n",
    "\n",
    "mypath = Path().absolute()\n",
    "#show_images([imgs_with_staff[0]])\n",
    "#     file_path = str(mypath) + '\\\\segmenter\\\\output\\\\'\n",
    "#     zip_path = str(mypath) + '\\\\data\\\\melody\\\\'\n",
    "#     zip_path1 = str(mypath) + '\\\\data\\\\melody'\n",
    "#     delete_path = str(mypath) + '\\\\segmenter\\\\output'\n",
    "#     absolute_path = Path(file_path)\n",
    "#     zip_path2 = str(mypath) + '\\\\data\\\\melody'\n",
    "    \n",
    "    \n",
    "#     remove_dir = os.listdir(delete_path)\n",
    "#     for item in remove_dir:\n",
    "#         if item.endswith(\".png\") or item.endswith(\".jpg\") or item.endswith(\".jpeg\"):\n",
    "#             os.remove(os.path.join(delete_path, item))\n",
    "#     remove_dir = os.listdir(zip_path1)\n",
    "#     for item in remove_dir:\n",
    "#         if item.endswith(\".png\") or item.endswith(\".jpg\") or item.endswith(\".jpeg\"):\n",
    "#             os.remove(os.path.join(zip_path1, item))"
   ]
  },
  {
   "cell_type": "code",
   "execution_count": null,
   "metadata": {},
   "outputs": [],
   "source": [
    "ML_MODEL\n",
    "        #file_name = segmented_staves[0].name.split('.')[-2]\n",
    "        #file_ext = str(segmented_staves[0]).split('.')[1]\n",
    "        #counter = 1\n",
    "        #image = cv2.imread(str(current_file),0)\n",
    "            #image = cv2.cvtColor(np.array(img), cv2.COLOR_RGB2BGR)\n",
    "            #image = cv2.cvtColor(np.array(img), cv2.COLOR_RGB2GRAY)\n",
    "            \n",
    "            \n",
    "            \n",
    "            #             image = cv2.cvtColor(np.float32(opencv_image), cv2.COLOR_GRAY2RGB)\n",
    "#             print('OpenCV: ', image.shape)\n",
    "#             cv2.imwrite('proto.jpg', image)\n",
    "            \n",
    "            \n",
    "            \n",
    "            \n",
    "            #             if counter < len(segmented_staves):\n",
    "#                 current_file = segmented_staves[counter]\n",
    "#             else:\n",
    "#                 valid_path, valid_name = os.path.split(segmented_staves[counter-1])\n",
    "#                 current_file = Path(valid_path + '\\\\invalid.png' )\n",
    "            #counter+=1"
   ]
  }
 ],
 "metadata": {
  "kernelspec": {
   "display_name": "Python 3",
   "language": "python",
   "name": "python3"
  },
  "language_info": {
   "codemirror_mode": {
    "name": "ipython",
    "version": 3
   },
   "file_extension": ".py",
   "mimetype": "text/x-python",
   "name": "python",
   "nbconvert_exporter": "python",
   "pygments_lexer": "ipython3",
   "version": "3.8.5"
  }
 },
 "nbformat": 4,
 "nbformat_minor": 4
}
