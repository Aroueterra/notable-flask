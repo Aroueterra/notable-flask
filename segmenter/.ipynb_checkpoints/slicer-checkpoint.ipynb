{
 "cells": [
  {
   "cell_type": "code",
   "execution_count": 2,
   "metadata": {},
   "outputs": [
    {
     "name": "stdout",
     "output_type": "stream",
     "text": [
      "STARTING SEGMENTATION\n",
      "Image generated in 8.52087688446045\n",
      "Image generated in 14.10610842704773\n",
      "Image generated in 21.13265299797058\n",
      "Image generated in 29.566905975341797\n",
      "COMPLETE\n"
     ]
    },
    {
     "data": {
      "image/png": "[encoded data removed]",
      "text/plain": [
       "<Figure size 1440x1080 with 1 Axes>"
      ]
     },
     "metadata": {
      "needs_background": "light"
     },
     "output_type": "display_data"
    }
   ],
   "source": [
    "import cv2\n",
    "import glob\n",
    "import time\n",
    "import pickle\n",
    "import numpy as np\n",
    "from box import Box\n",
    "import skimage.io as io\n",
    "from PIL import Image\n",
    "from fit import predict\n",
    "from pre_processing import *\n",
    "from commonfunctions import *\n",
    "from wand.image import Image\n",
    "from segmenter import Segmenter\n",
    "from wand.display import display\n",
    "from connected_componentes import  *\n",
    "from imutils import resize as im_resize\n",
    "from scipy.ndimage import binary_fill_holes\n",
    "from skimage.morphology import skeletonize, thin\n",
    "from skimage.filters import threshold_otsu, gaussian, median, threshold_yen\n",
    "from staff import calculate_thickness_spacing, remove_staff_lines, coordinator\n",
    "\n",
    "def Slice(input):\n",
    "    start_time = time.time()\n",
    "    input_path=input\n",
    "    img_name = input_path.split('/')[-1]\n",
    "    imgs_path = input_path[:-len(img_name)]\n",
    "    img = io.imread(f'{imgs_path}{img_name}')\n",
    "    img = cv2.imread(input_path,0)\n",
    "    img_buffer=None\n",
    "    imgf=None\n",
    "    imgmat=None\n",
    "    with Image.from_array(img) as im:\n",
    "        img_buffer = np.asarray(bytearray(im.make_blob(\"JPEG\")), dtype=np.uint8)\n",
    "        ret, mat = binarize_image(img_buffer)\n",
    "        with Image(blob=mat) as timg:\n",
    "            imgf = mat\n",
    "            timg.save(filename=\"otsu.jpg\")\n",
    "            timg.deskew(0.4*im.quantum_range)\n",
    "            timg.save(filename=\"otsu2.jpg\")\n",
    "            imgf = np.array(timg)\n",
    "            img_buffer = np.asarray(bytearray(timg.make_blob(\"JPEG\")), dtype=np.uint8)\n",
    "            imgmat = cv2.imdecode(img_buffer, cv2.IMREAD_UNCHANGED)\n",
    "\n",
    "    print(\"STARTING SEGMENTATION\")\n",
    "    imgmat = get_thresholded(imgmat, 245)\n",
    "    segmenter = Segmenter(imgmat)\n",
    "    imgs_with_staff = segmenter.regions_with_staff\n",
    "    show_images([imgs_with_staff[0]])\n",
    "    \n",
    "    for i, img in enumerate(imgs_with_staff):\n",
    "        plt.rcParams[\"figure.figsize\"] = (20,15)\n",
    "        plt.gca().set_axis_off()\n",
    "        plt.gca().set_title(\"\")\n",
    "        fig=plt.imshow(imgs_with_staff[i],interpolation='nearest')\n",
    "        plt.savefig('output\\slice'+str(i)+'.png',\n",
    "        bbox_inches='tight', pad_inches=0, format='png', dpi=600)\n",
    "        print(\"Image generated in \" + str(time.time() - start_time))\n",
    "\n",
    "    print(\"PROCESS COMPLETED in: \" + str(time.time() - start_time))\n",
    "    return len(imgs_with_staff)\n",
    "\n",
    "if __name__ == '__main__':\n",
    "    Splice(r\"C:\\Users\\aroue\\Downloads\\Documents\\@ML\\Sheet Music\\goodsheet\\pgws.png\")"
   ]
  },
  {
   "cell_type": "code",
   "execution_count": null,
   "metadata": {},
   "outputs": [],
   "source": []
  }
 ],
 "metadata": {
  "kernelspec": {
   "display_name": "Python 3",
   "language": "python",
   "name": "python3"
  },
  "language_info": {
   "codemirror_mode": {
    "name": "ipython",
    "version": 3
   },
   "file_extension": ".py",
   "mimetype": "text/x-python",
   "name": "python",
   "nbconvert_exporter": "python",
   "pygments_lexer": "ipython3",
   "version": "3.8.5"
  }
 },
 "nbformat": 4,
 "nbformat_minor": 4
}
