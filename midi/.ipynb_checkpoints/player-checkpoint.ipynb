{
 "cells": [
  {
   "cell_type": "code",
   "execution_count": 2,
   "metadata": {},
   "outputs": [],
   "source": [
    "import numpy as np\n",
    "#import re\n",
    "import vocabulary\n",
    "#from .vocabulary import FREQ, DUR\n",
    "\n",
    "def music_str_parser(semantic):\n",
    "    # finds string associated with symb\n",
    "    found_str = re.compile(r'((note|gracenote|rest|multirest)(\\-)(\\S)*)'\n",
    "                           ).findall(semantic)\n",
    "    music_str = [i[0] for i in found_str]\n",
    "    # finds the note's alphabets \n",
    "    fnd_notes = [re.compile(r'(([A-G](b|#)?[1-6])|rest)'\n",
    "                    ).findall(note) for note in music_str]\n",
    "    # stores the note's alphabets\n",
    "    notes = [m[0][0] for m in fnd_notes]\n",
    "    found_durs = [re.compile(r'((\\_|\\-)([a-z]|[0-9])+(\\S)*)+'\n",
    "                    ).findall(note) for note in music_str]\n",
    "    #split by '_' every other string in list found in tuple of lists \n",
    "    durs = [i[0][0][1:].split('_') for i in found_durs]\n",
    "    return notes, durs"
   ]
  },
  {
   "cell_type": "code",
   "execution_count": 2,
   "metadata": {},
   "outputs": [],
   "source": [
    "#FERMATA"
   ]
  },
  {
   "cell_type": "code",
   "execution_count": 3,
   "metadata": {},
   "outputs": [],
   "source": [
    "def dur_evaluator(durations):\n",
    "    note_dur_computed = []\n",
    "    for dur in durations:\n",
    "        # if dur_len in DUR dict, get. Else None \n",
    "        dur_len = [DUR.get(i.replace('.','').replace('.',''), \n",
    "                              None) for i in dur]\n",
    "        # filter/remove None values, and sum list\n",
    "        dur_len_actual = sum(list(filter(lambda a: a !=None, \n",
    "                                      dur_len)))\n",
    "        # actual duration * 4 = quadruple\n",
    "        if 'quadruple' in dur:\n",
    "            dur_len_actual = dur_len_actual * 4\n",
    "        # actual duration * 2 = fermata\n",
    "        elif 'fermata' in dur:\n",
    "            dur_len_actual = dur_len_actual * 2\n",
    "        # actual duration + 1/2 of duration = .\n",
    "        elif '.' in ''.join(dur):\n",
    "            dur_len_actual = dur_len_actual + (dur_len_actual * 1/2)\n",
    "        elif '..' in ''.join(dur):\n",
    "            dur_len_actual = dur_len_actual +(2 *(dur_len_actual * 1/2))\n",
    "        # if no special duration string\n",
    "        elif dur[0].isnumeric():\n",
    "            dur_len_actual = float(dur[0]) * .5\n",
    "        note_dur_computed.append(dur_len_actual)\n",
    "    return note_dur_computed"
   ]
  },
  {
   "cell_type": "code",
   "execution_count": 4,
   "metadata": {},
   "outputs": [],
   "source": [
    "def get_music_note(semantic):\n",
    "    notes, durations = music_str_parser(semantic)\n",
    "    sample_rate = 44100\n",
    "    timestep = []\n",
    "    T = dur_evaluator(durations)\n",
    "    for i in T:\n",
    "        # gets timestep for each sample \n",
    "        timestep.append(np.linspace(0, i, int(i * sample_rate), \n",
    "                                    False))\n",
    "    def get_freq(notes):\n",
    "        # get pitchs frequency from dict\n",
    "        pitch_freq = [FREQ[i] for i in notes]\n",
    "        return pitch_freq\n",
    "    return timestep, get_freq(notes)\n",
    "\n",
    "\n",
    "def get_sinewave_audio(semantic):\n",
    "    audio = []\n",
    "    timestep, freq = get_music_note(semantic)\n",
    "    for i in range(len(freq)):\n",
    "        # calculates the sinewave\n",
    "        audio.append(np.sin(\n",
    "            freq[i] * timestep[i] * 2 * np.pi))\n",
    "    return audio"
   ]
  },
  {
   "cell_type": "code",
   "execution_count": null,
   "metadata": {},
   "outputs": [],
   "source": []
  }
 ],
 "metadata": {
  "kernelspec": {
   "display_name": "Python 3",
   "language": "python",
   "name": "python3"
  },
  "language_info": {
   "codemirror_mode": {
    "name": "ipython",
    "version": 3
   },
   "file_extension": ".py",
   "mimetype": "text/x-python",
   "name": "python",
   "nbconvert_exporter": "python",
   "pygments_lexer": "ipython3",
   "version": "3.8.5"
  }
 },
 "nbformat": 4,
 "nbformat_minor": 4
}
