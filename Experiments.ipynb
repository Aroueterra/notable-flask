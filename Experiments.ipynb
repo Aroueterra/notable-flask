{
 "cells": [
  {
   "cell_type": "code",
   "execution_count": 1,
   "metadata": {},
   "outputs": [],
   "source": [
    "import requests\n",
    "import json \n",
    "import pandas as pd\n",
    "\n",
    "with open('annotated.png', 'rb') as f:\n",
    "    r = requests.post('http://httpbin.org/post', files={'annotated.png': f})"
   ]
  },
  {
   "cell_type": "code",
   "execution_count": null,
   "metadata": {},
   "outputs": [],
   "source": [
    "#commented out\n",
    "#@app.get('/img/<filename>')\n",
    "#def send_img(filename: str):\n",
    "#    return send_from_directory('', filename)\n",
    "\n",
    "#@app.get(\"/items/{id}\", response_class=HTMLResponse)\n",
    "#async def read_item(request: Request, id: str):\n",
    "#    return templates.TemplateResponse(\"item.html\", {\"request\": request, \"id\": id})\n",
    "\n",
    "#@app.get(\"/\")\n",
    "#def root():\n",
    "#    return templates.TemplateResponse(\"index.html\")\n",
    "#    return render_template('index.html')\n",
    "\n",
    "#@app.post(\"/create_file/\")\n",
    "#async def image(image: UploadFile = File(...)):\n",
    "#    print(image.file)\n",
    "#    # print('../'+os.path.isdir(os.getcwd()+\"images\"),\"*************\")\n",
    "#    try:\n",
    "#        os.mkdir(\"images\")\n",
    "#        print(os.getcwd())\n",
    "#    except Exception as e:\n",
    "#        print(e) \n",
    "#    file_name = os.getcwd()+\"/images/\"+image.filename.replace(\" \", \"-\")\n",
    "#    with open(file_name,'wb+') as f:\n",
    "#        f.write(image.file.read())\n",
    "#        f.close()\n",
    "#   file = jsonable_encoder({\"imagePath\":file_name})\n",
    "#   new_image = await add_image(file)\n",
    "#   return {\"filename\": new_image}\n",
    "\n",
    "#@app.post(\"/upload-file\")\n",
    "#async def create_upload_file(uploaded_file: UploadFile = File(...)):\n",
    "#    file_location = f\"files/{uploaded_file.filename}\"\n",
    "#    with open(file_location, \"wb+\") as file_object:\n",
    "#        shutil.copyfileobj(uploaded_file.file, file_object)\n",
    "#    return {\"info\": f\"file '{uploaded_file.filename}' saved at '{file_location}'\"}\n",
    "\n",
    "#@app.get(\"/\")\n",
    "#async def main():\n",
    "#    return FileResponse(\"your_image.jpeg\")\n",
    "\n",
    "\n",
    "#ngrok.set_auth_token(\"<1nM8RPS113N7wSZvyYJ3VpgADFl_53evML7vJRGGYJA8PhCK6>\")\n",
    "\n",
    "# pyngrok should only ever be installed or initialized in a dev environment when this flag is set\n",
    "#from pyngrok import ngrok\n",
    "\n",
    "# Get the dev server port (defaults to 8000 for Uvicorn, can be overridden with `--port`\n",
    "# when starting the server\n",
    "#port = sys.argv[sys.argv.index(\"--port\") + 1] if \"--port\" in sys.argv else 8000\n",
    "\n",
    "# Open a ngrok tunnel to the dev server\n"
   ]
  }
 ],
 "metadata": {
  "kernelspec": {
   "display_name": "Python 3",
   "language": "python",
   "name": "python3"
  },
  "language_info": {
   "codemirror_mode": {
    "name": "ipython",
    "version": 3
   },
   "file_extension": ".py",
   "mimetype": "text/x-python",
   "name": "python",
   "nbconvert_exporter": "python",
   "pygments_lexer": "ipython3",
   "version": "3.8.5"
  }
 },
 "nbformat": 4,
 "nbformat_minor": 4
}
